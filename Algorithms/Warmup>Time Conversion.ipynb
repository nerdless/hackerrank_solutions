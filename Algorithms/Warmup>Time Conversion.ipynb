{
 "cells": [
  {
   "cell_type": "markdown",
   "metadata": {},
   "source": [
    "[Hacker Rank problem is here](https://www.hackerrank.com/challenges/staircase)"
   ]
  },
  {
   "cell_type": "code",
   "execution_count": 9,
   "metadata": {
    "collapsed": false
   },
   "outputs": [
    {
     "name": "stdout",
     "output_type": "stream",
     "text": [
      "12:00:00AM\n",
      "00:00:00\n"
     ]
    }
   ],
   "source": [
    "time = raw_input().strip()\n",
    "\n",
    "hour = int(time[:2])\n",
    "mins_segs = time[2:8]\n",
    "\n",
    "meridian = time[-2:]\n",
    "\n",
    "if meridian == 'PM' and hour != 12:\n",
    "    hour += 12\n",
    "if meridian == 'AM' and hour == 12:\n",
    "    hour = 0\n",
    "\n",
    "print str(hour).zfill(2) + mins_segs"
   ]
  },
  {
   "cell_type": "code",
   "execution_count": null,
   "metadata": {
    "collapsed": true
   },
   "outputs": [],
   "source": []
  }
 ],
 "metadata": {
  "kernelspec": {
   "display_name": "Python 2",
   "language": "python",
   "name": "python2"
  },
  "language_info": {
   "codemirror_mode": {
    "name": "ipython",
    "version": 2
   },
   "file_extension": ".py",
   "mimetype": "text/x-python",
   "name": "python",
   "nbconvert_exporter": "python",
   "pygments_lexer": "ipython2",
   "version": "2.7.6"
  }
 },
 "nbformat": 4,
 "nbformat_minor": 0
}
