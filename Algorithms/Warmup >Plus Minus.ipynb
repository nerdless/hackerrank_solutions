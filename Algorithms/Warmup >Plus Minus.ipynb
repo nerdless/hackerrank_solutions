{
 "cells": [
  {
   "cell_type": "markdown",
   "metadata": {},
   "source": [
    "[Hacker rank problem is here](https://www.hackerrank.com/challenges/plus-minus)"
   ]
  },
  {
   "cell_type": "code",
   "execution_count": 2,
   "metadata": {
    "collapsed": false
   },
   "outputs": [
    {
     "name": "stdout",
     "output_type": "stream",
     "text": [
      "6\n",
      "-4 3 -9 0 4 1\n",
      "0.5\n",
      "0.333333333333\n",
      "0.166666666667\n"
     ]
    }
   ],
   "source": [
    "n = int(raw_input().strip())\n",
    "arr = map(int,raw_input().strip().split(' '))\n",
    "\n",
    "pos = 0\n",
    "neg = 0\n",
    "zro = 0\n",
    "\n",
    "for x in arr:\n",
    "    if x > 0:\n",
    "        pos += 1\n",
    "    elif x < 0:\n",
    "        neg += 1\n",
    "    else:\n",
    "        zro += 1\n",
    "\n",
    "print float(pos)/n\n",
    "print float(neg)/n\n",
    "print float(zro)/n"
   ]
  },
  {
   "cell_type": "code",
   "execution_count": null,
   "metadata": {
    "collapsed": true
   },
   "outputs": [],
   "source": []
  }
 ],
 "metadata": {
  "kernelspec": {
   "display_name": "Python 2",
   "language": "python",
   "name": "python2"
  },
  "language_info": {
   "codemirror_mode": {
    "name": "ipython",
    "version": 2
   },
   "file_extension": ".py",
   "mimetype": "text/x-python",
   "name": "python",
   "nbconvert_exporter": "python",
   "pygments_lexer": "ipython2",
   "version": "2.7.6"
  }
 },
 "nbformat": 4,
 "nbformat_minor": 0
}
