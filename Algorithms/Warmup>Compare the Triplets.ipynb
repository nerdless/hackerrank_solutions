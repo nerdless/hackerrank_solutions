{
 "cells": [
  {
   "cell_type": "markdown",
   "metadata": {},
   "source": [
    "[Hacker rank problem is here](https://www.hackerrank.com/challenges/compare-the-triplets)"
   ]
  },
  {
   "cell_type": "code",
   "execution_count": 20,
   "metadata": {
    "collapsed": false
   },
   "outputs": [
    {
     "name": "stdout",
     "output_type": "stream",
     "text": [
      "5 6 7\n",
      "3 6 10\n",
      "1 1\n"
     ]
    }
   ],
   "source": [
    "a_input = raw_input().strip().split(' ')\n",
    "b_input = raw_input().strip().split(' ')\n",
    "a_score = 0\n",
    "b_score = 0\n",
    "for ind in xrange(3):\n",
    "    a_score += int(a_input[ind]) > int(b_input[ind])\n",
    "    b_score += int(b_input[ind]) > int(a_input[ind])\n",
    "print str(a_score) + ' ' + str(b_score)"
   ]
  }
 ],
 "metadata": {
  "kernelspec": {
   "display_name": "Python 2",
   "language": "python",
   "name": "python2"
  },
  "language_info": {
   "codemirror_mode": {
    "name": "ipython",
    "version": 2
   },
   "file_extension": ".py",
   "mimetype": "text/x-python",
   "name": "python",
   "nbconvert_exporter": "python",
   "pygments_lexer": "ipython2",
   "version": "2.7.6"
  }
 },
 "nbformat": 4,
 "nbformat_minor": 0
}
